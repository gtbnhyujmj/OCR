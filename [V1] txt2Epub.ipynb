{
  "nbformat": 4,
  "nbformat_minor": 0,
  "metadata": {
    "colab": {
      "provenance": [],
      "authorship_tag": "ABX9TyPIbG1rpJqv28UEBw5n48es",
      "include_colab_link": true
    },
    "kernelspec": {
      "name": "python3",
      "display_name": "Python 3"
    },
    "language_info": {
      "name": "python"
    }
  },
  "cells": [
    {
      "cell_type": "markdown",
      "metadata": {
        "id": "view-in-github",
        "colab_type": "text"
      },
      "source": [
        "<a href=\"https://colab.research.google.com/github/gtbnhyujmj/OCR/blob/main/txt2Epub.ipynb\" target=\"_parent\"><img src=\"https://colab.research.google.com/assets/colab-badge.svg\" alt=\"Open In Colab\"/></a>"
      ]
    },
    {
      "cell_type": "code",
      "execution_count": 1,
      "metadata": {
        "colab": {
          "base_uri": "https://localhost:8080/"
        },
        "id": "44OMKDkOlzN7",
        "outputId": "38d1bd54-1186-4f77-e73d-cf5d419325ac"
      },
      "outputs": [
        {
          "output_type": "stream",
          "name": "stdout",
          "text": [
            "Mounted at /content/drive\n"
          ]
        }
      ],
      "source": [
        "from google.colab import drive\n",
        "drive.mount('/content/drive')"
      ]
    },
    {
      "cell_type": "code",
      "source": [
        "!pip install EbookLib"
      ],
      "metadata": {
        "colab": {
          "base_uri": "https://localhost:8080/"
        },
        "collapsed": true,
        "id": "dntRdZE-l0xT",
        "outputId": "e5c82339-3b48-4413-f315-4f513a4a56d4"
      },
      "execution_count": 2,
      "outputs": [
        {
          "output_type": "stream",
          "name": "stdout",
          "text": [
            "Collecting EbookLib\n",
            "  Downloading ebooklib-0.19-py3-none-any.whl.metadata (4.1 kB)\n",
            "Requirement already satisfied: lxml in /usr/local/lib/python3.11/dist-packages (from EbookLib) (5.4.0)\n",
            "Requirement already satisfied: six in /usr/local/lib/python3.11/dist-packages (from EbookLib) (1.17.0)\n",
            "Downloading ebooklib-0.19-py3-none-any.whl (39 kB)\n",
            "Installing collected packages: EbookLib\n",
            "Successfully installed EbookLib-0.19\n"
          ]
        }
      ]
    },
    {
      "cell_type": "code",
      "source": [
        "# 設定來源資料夾和輸出資料夾\n",
        "INPUT_DIR = '/content/drive/MyDrive/1-1 & 1-2'\n",
        "OUTPUT_DIR = '/content/drive/MyDrive/epub_output'\n",
        "\n",
        "os.makedirs(OUTPUT_DIR, exist_ok=True)"
      ],
      "metadata": {
        "id": "NP51XOnNVQ9K"
      },
      "execution_count": null,
      "outputs": []
    },
    {
      "cell_type": "code",
      "source": [
        "import os\n",
        "from ebooklib import epub"
      ],
      "metadata": {
        "id": "JZ9S_Ss1VZSZ"
      },
      "execution_count": null,
      "outputs": []
    },
    {
      "cell_type": "code",
      "source": [
        "# 批次處理所有TXT檔\n",
        "for filename in os.listdir(INPUT_DIR):\n",
        "    if filename.endswith('.txt'):\n",
        "        txt_path = os.path.join(INPUT_DIR, filename)\n",
        "        epub_title = os.path.splitext(filename)[0]\n",
        "        with open(txt_path, 'r', encoding='utf-8') as f:\n",
        "            content = f.read()\n",
        "\n",
        "        # 建立 EPUB 書籍\n",
        "        book = epub.EpubBook()\n",
        "        book.set_identifier(epub_title)\n",
        "        book.set_title(epub_title)\n",
        "        book.set_language('zh')\n",
        "\n",
        "        # 增加內容\n",
        "        c1 = epub.EpubHtml(title=epub_title, file_name='chap_01.xhtml', lang='zh')\n",
        "\n",
        "        # 直接用 <pre> 保持排版，不會亂掉\n",
        "        c1.content = f'<pre style=\"font-size:1.1em;line-height:1.8;\">{content}</pre>'\n",
        "        book.add_item(c1)\n",
        "        book.toc = (epub.Link('chap_01.xhtml', epub_title, 'intro'),)\n",
        "        book.add_item(epub.EpubNcx())\n",
        "        book.add_item(epub.EpubNav())\n",
        "        book.spine = ['nav', c1]\n",
        "\n",
        "        # 輸出 epub\n",
        "        output_path = os.path.join(OUTPUT_DIR, f\"{epub_title}.epub\")\n",
        "        epub.write_epub(output_path, book, {})"
      ],
      "metadata": {
        "colab": {
          "base_uri": "https://localhost:8080/"
        },
        "id": "lzQ0cQ_Cl2YC",
        "outputId": "07ebf879-e249-4479-e5d2-fd15549f2ae0"
      },
      "execution_count": 3,
      "outputs": [
        {
          "output_type": "stream",
          "name": "stdout",
          "text": [
            "✅ 所有 TXT 已經轉成 EPUB，輸出在：/content/drive/MyDrive/epub_output\n"
          ]
        }
      ]
    },
    {
      "cell_type": "code",
      "source": [
        "print(f\"✅ 所有 TXT 已經轉成 EPUB，輸出在：{OUTPUT_DIR}\")"
      ],
      "metadata": {
        "id": "XTvsF5-pVV3x"
      },
      "execution_count": null,
      "outputs": []
    }
  ]
}
