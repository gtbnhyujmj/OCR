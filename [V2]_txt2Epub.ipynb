{
  "nbformat": 4,
  "nbformat_minor": 0,
  "metadata": {
    "colab": {
      "provenance": [],
      "mount_file_id": "1dfc25wf3jdhpu-rpwdyx-8UDaelxUo0s",
      "authorship_tag": "ABX9TyPhjZiB9xIdpVIwfTeVTKqz",
      "include_colab_link": true
    },
    "kernelspec": {
      "name": "python3",
      "display_name": "Python 3"
    },
    "language_info": {
      "name": "python"
    }
  },
  "cells": [
    {
      "cell_type": "markdown",
      "metadata": {
        "id": "view-in-github",
        "colab_type": "text"
      },
      "source": [
        "<a href=\"https://colab.research.google.com/github/gtbnhyujmj/OCR/blob/main/%5BV2%5D_txt2Epub.ipynb\" target=\"_parent\"><img src=\"https://colab.research.google.com/assets/colab-badge.svg\" alt=\"Open In Colab\"/></a>"
      ]
    },
    {
      "cell_type": "code",
      "execution_count": 16,
      "metadata": {
        "colab": {
          "base_uri": "https://localhost:8080/"
        },
        "collapsed": true,
        "id": "i8i6H4q5qbp0",
        "outputId": "4220f6d9-0991-4b3e-ccd4-31b53322ba55"
      },
      "outputs": [
        {
          "output_type": "stream",
          "name": "stdout",
          "text": [
            "Drive already mounted at /content/drive; to attempt to forcibly remount, call drive.mount(\"/content/drive\", force_remount=True).\n"
          ]
        }
      ],
      "source": [
        "from google.colab import drive\n",
        "drive.mount('/content/drive')"
      ]
    },
    {
      "cell_type": "code",
      "source": [
        "!pip install EbookLib"
      ],
      "metadata": {
        "colab": {
          "base_uri": "https://localhost:8080/"
        },
        "collapsed": true,
        "id": "trYnsgfgqdOI",
        "outputId": "1de29246-5267-4ffe-ad38-0bee46d7d944"
      },
      "execution_count": 17,
      "outputs": [
        {
          "output_type": "stream",
          "name": "stdout",
          "text": [
            "Requirement already satisfied: EbookLib in /usr/local/lib/python3.11/dist-packages (0.19)\n",
            "Requirement already satisfied: lxml in /usr/local/lib/python3.11/dist-packages (from EbookLib) (5.4.0)\n",
            "Requirement already satisfied: six in /usr/local/lib/python3.11/dist-packages (from EbookLib) (1.17.0)\n"
          ]
        }
      ]
    },
    {
      "cell_type": "code",
      "source": [
        "import os\n",
        "from ebooklib import epub"
      ],
      "metadata": {
        "id": "4a-3HhPVqfLo"
      },
      "execution_count": 18,
      "outputs": []
    },
    {
      "cell_type": "code",
      "source": [
        "# ===== 你只需要修改這裡 =====\n",
        "INPUT_DIR = '/content/drive/MyDrive/1-1 & 1-2'     # TXT 檔所在資料夾\n",
        "OUTPUT_DIR = '/content/drive/MyDrive/epub_output' # 輸出 EPUB 資料夾\n",
        "\n",
        "os.makedirs(OUTPUT_DIR, exist_ok=True)"
      ],
      "metadata": {
        "id": "MeOnBgt9qgOI"
      },
      "execution_count": 19,
      "outputs": []
    },
    {
      "cell_type": "code",
      "source": [
        "start_num = 31  # 起始頁（只填數字，例: 26 代表 0026.txt）\n",
        "end_num   = 41  # 結束頁（只填數字，例: 30 代表 0030.txt）\n",
        "epub_filename = '罪刑法定主義&罪責原則.epub'  # 最後輸出的 EPUB 檔名"
      ],
      "metadata": {
        "id": "X5I8ajncrsEg"
      },
      "execution_count": 20,
      "outputs": []
    },
    {
      "cell_type": "code",
      "source": [
        "# ===== 下面都不用改 =====\n",
        "# 檔名格式要像「0026.txt」「0027.txt」……\n",
        "\n",
        "txt_files = []\n",
        "for num in range(start_num, end_num + 1):\n",
        "    filename = f\"{num:04d}.txt\"\n",
        "    file_path = os.path.join(INPUT_DIR, filename)\n",
        "    if os.path.isfile(file_path):\n",
        "        txt_files.append(filename)"
      ],
      "metadata": {
        "id": "wZmZN54QrxM3"
      },
      "execution_count": 21,
      "outputs": []
    },
    {
      "cell_type": "code",
      "source": [
        "# 合併內容\n",
        "all_content = \"\"\n",
        "\n",
        "for filename in txt_files:\n",
        "    file_path = os.path.join(INPUT_DIR, filename)\n",
        "    with open(file_path, 'r', encoding='utf-8') as f:\n",
        "        content = f.read()\n",
        "    all_content += content + '\\n\\n'"
      ],
      "metadata": {
        "id": "GQdUVuXErzqA"
      },
      "execution_count": 22,
      "outputs": []
    },
    {
      "cell_type": "code",
      "source": [
        "# 建立 EPUB（只做一章，內容全放進去）\n",
        "book = epub.EpubBook()\n",
        "book.set_identifier(epub_filename)\n",
        "book.set_title(epub_filename.replace('.epub', ''))\n",
        "book.set_language('zh')"
      ],
      "metadata": {
        "id": "PX3wgK3ar1Kv"
      },
      "execution_count": 23,
      "outputs": []
    },
    {
      "cell_type": "code",
      "source": [
        "chapter = epub.EpubHtml(title=book.title, file_name='chap_001.xhtml', lang='zh')\n",
        "chapter.content = f'<pre style=\"font-size:1.1em;line-height:1.8;\">{all_content}</pre>'\n",
        "\n",
        "book.add_item(chapter)\n",
        "book.toc = (chapter,)\n",
        "book.spine = ['nav', chapter]\n",
        "book.add_item(epub.EpubNcx())\n",
        "book.add_item(epub.EpubNav())"
      ],
      "metadata": {
        "colab": {
          "base_uri": "https://localhost:8080/"
        },
        "id": "kqKPpbttr2W_",
        "outputId": "6dc1b969-b583-4925-86c2-7ebc741ffa71"
      },
      "execution_count": 24,
      "outputs": [
        {
          "output_type": "execute_result",
          "data": {
            "text/plain": [
              "<ebooklib.epub.EpubNav at 0x7bbb8a5e8910>"
            ]
          },
          "metadata": {},
          "execution_count": 24
        }
      ]
    },
    {
      "cell_type": "code",
      "source": [
        "output_path = os.path.join(OUTPUT_DIR, epub_filename)\n",
        "epub.write_epub(output_path, book, {})"
      ],
      "metadata": {
        "colab": {
          "base_uri": "https://localhost:8080/"
        },
        "id": "D9i91fyXr3jn",
        "outputId": "c6ff3de1-1ec6-46e1-aef7-17f077e10ea8"
      },
      "execution_count": 25,
      "outputs": [
        {
          "output_type": "execute_result",
          "data": {
            "text/plain": [
              "True"
            ]
          },
          "metadata": {},
          "execution_count": 25
        }
      ]
    },
    {
      "cell_type": "code",
      "source": [
        "print(f'✅ 合併完畢，已輸出：{output_path}')"
      ],
      "metadata": {
        "colab": {
          "base_uri": "https://localhost:8080/"
        },
        "id": "9PCCo8HWr4on",
        "outputId": "6f19bb65-f1b2-4379-e13d-da884384a059"
      },
      "execution_count": 26,
      "outputs": [
        {
          "output_type": "stream",
          "name": "stdout",
          "text": [
            "✅ 合併完畢，已輸出：/content/drive/MyDrive/epub_output/罪刑法定主義&罪責原則.epub\n"
          ]
        }
      ]
    }
  ]
}